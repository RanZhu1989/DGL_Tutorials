{
 "cells": [
  {
   "cell_type": "code",
   "execution_count": 1,
   "metadata": {},
   "outputs": [
    {
     "name": "stderr",
     "output_type": "stream",
     "text": [
      "d:\\miniconda\\envs\\torch\\Lib\\site-packages\\tqdm\\auto.py:21: TqdmWarning: IProgress not found. Please update jupyter and ipywidgets. See https://ipywidgets.readthedocs.io/en/stable/user_install.html\n",
      "  from .autonotebook import tqdm as notebook_tqdm\n"
     ]
    }
   ],
   "source": [
    "import os\n",
    "\n",
    "os.environ[\"DGLBACKEND\"] = \"pytorch\"\n",
    "import dgl\n",
    "import numpy as np\n",
    "import torch"
   ]
  },
  {
   "cell_type": "markdown",
   "metadata": {},
   "source": [
    "# 1. 用始末节点对来创建DGL图对象"
   ]
  },
  {
   "cell_type": "code",
   "execution_count": 2,
   "metadata": {},
   "outputs": [
    {
     "name": "stdout",
     "output_type": "stream",
     "text": [
      "(tensor([0, 1, 2, 3, 4]), tensor([1, 2, 3, 4, 5]))\n"
     ]
    }
   ],
   "source": [
    "g = dgl.graph(([0, 1, 2, 3, 4], [1, 2, 3, 4, 5]), num_nodes=6)\n",
    "print(g.edges())"
   ]
  },
  {
   "cell_type": "markdown",
   "metadata": {},
   "source": [
    "# 2. 为图对象添加节点和边的特征"
   ]
  },
  {
   "cell_type": "code",
   "execution_count": 3,
   "metadata": {},
   "outputs": [
    {
     "name": "stdout",
     "output_type": "stream",
     "text": [
      "tensor([[-0.1276, -0.0732, -1.0545],\n",
      "        [ 0.1000, -0.8473, -0.7076],\n",
      "        [ 0.2949,  0.6713,  1.0293],\n",
      "        [-1.0477, -1.3726, -0.2496],\n",
      "        [-0.1566,  0.8665, -0.0553],\n",
      "        [-0.1200, -1.6928, -0.4695]])\n",
      "tensor([[[-0.9795, -1.9189, -0.2174, -0.7226, -0.3734],\n",
      "         [-1.0780,  1.7245, -0.2887, -0.1209, -0.4703],\n",
      "         [ 1.8698, -0.9223, -0.5286, -0.1136,  0.4121]],\n",
      "\n",
      "        [[-0.0623,  0.7058, -0.9261,  1.7798,  0.8032],\n",
      "         [-0.7016,  0.6724,  0.5253,  1.1716, -0.5839],\n",
      "         [ 0.9658,  0.3576,  2.4631,  0.2193,  2.2110]],\n",
      "\n",
      "        [[ 1.3883, -0.2003, -0.0385, -0.5834,  0.6376],\n",
      "         [ 0.1333, -0.2610,  0.2273, -0.5159, -2.4402],\n",
      "         [-0.8394,  1.2528,  1.3826, -0.1071, -0.5757]],\n",
      "\n",
      "        [[-0.5073, -0.3450,  0.2904, -0.1244,  0.6709],\n",
      "         [-1.3932,  1.3407,  0.3969,  0.7186,  1.7896],\n",
      "         [-0.7984,  1.0558,  0.6092, -0.3990, -1.0704]],\n",
      "\n",
      "        [[-0.5573,  1.7067, -0.2591,  0.4231, -0.6546],\n",
      "         [ 1.7745, -0.7586, -1.1843, -2.5713,  0.0309],\n",
      "         [ 1.1511, -0.7910, -0.5520, -0.8433, -0.1392]],\n",
      "\n",
      "        [[ 0.1534, -1.4254,  0.6662, -2.2856, -0.5337],\n",
      "         [ 0.2592,  2.3501,  2.3694, -0.1299,  1.8529],\n",
      "         [ 0.4200, -0.6321, -0.3221,  0.3103,  1.4968]]])\n",
      "tensor([[-0.1466,  0.9685],\n",
      "        [ 0.2325,  2.5271],\n",
      "        [-2.7121, -0.8699],\n",
      "        [-0.4331,  1.5697],\n",
      "        [ 0.4280, -0.1991]])\n"
     ]
    }
   ],
   "source": [
    "# 为所有的边添加名为x的特征，该特征为3维的向量\n",
    "g.ndata[\"x\"] = torch.randn(6, 3) #NOTE: 第一个维度是节点数\n",
    "print(g.ndata[\"x\"])\n",
    "\n",
    "# 添加名为y的特征，该特征为一个张量\n",
    "g.ndata[\"y\"] = torch.randn(6, 3,5)\n",
    "print(g.ndata[\"y\"])\n",
    "\n",
    "# 为边添加特征\n",
    "g.edata[\"w\"] = torch.randn(5, 2) #NOTE: 第一个维度是边数\n",
    "print(g.edata[\"w\"])"
   ]
  },
  {
   "cell_type": "code",
   "execution_count": 4,
   "metadata": {},
   "outputs": [
    {
     "name": "stdout",
     "output_type": "stream",
     "text": [
      "Graph(num_nodes=6, num_edges=5,\n",
      "      ndata_schemes={'x': Scheme(shape=(3,), dtype=torch.float32), 'y': Scheme(shape=(3, 5), dtype=torch.float32)}\n",
      "      edata_schemes={'w': Scheme(shape=(2,), dtype=torch.float32)})\n"
     ]
    }
   ],
   "source": [
    "print(g)"
   ]
  },
  {
   "cell_type": "markdown",
   "metadata": {},
   "source": [
    "# 3. 保存和加载DGL图对象"
   ]
  },
  {
   "cell_type": "code",
   "execution_count": null,
   "metadata": {},
   "outputs": [
    {
     "name": "stdout",
     "output_type": "stream",
     "text": [
      "Graph(num_nodes=8, num_edges=7,\n",
      "      ndata_schemes={'x': Scheme(shape=(3,), dtype=torch.float32), 'y': Scheme(shape=(3, 5), dtype=torch.float32)}\n",
      "      edata_schemes={'w': Scheme(shape=(2,), dtype=torch.float32)})\n",
      "tensor([[-0.1276, -0.0732, -1.0545],\n",
      "        [ 0.1000, -0.8473, -0.7076],\n",
      "        [ 0.2949,  0.6713,  1.0293],\n",
      "        [-1.0477, -1.3726, -0.2496],\n",
      "        [-0.1566,  0.8665, -0.0553],\n",
      "        [-0.1200, -1.6928, -0.4695],\n",
      "        [ 0.0000,  0.0000,  0.0000],\n",
      "        [ 0.0000,  0.0000,  0.0000]])\n"
     ]
    }
   ],
   "source": [
    "'''\n",
    "一个图\n",
    "'''\n",
    "dgl.save_graphs('./data/test_save_g.dgl', g)\n",
    "g1, _ = dgl.load_graphs('./datatest_save_g.dgl',[0])\n",
    "g1 = g1[0] #\n",
    "\n",
    "'''\n",
    "多个图\n",
    "'''\n",
    "gg = g.clone()\n",
    "gg.add_edges([5,6],[6,7]) # 添加边\n",
    "print(gg) # \n",
    "print(gg.ndata[\"x\"]) #NOTE: 可以发现添加后的节点新特征值都是0\n",
    "dgl.save_graphs('./data/test_save_gg.dgl', [g, gg])\n",
    "(g2,g3), _ = dgl.load_graphs('./data/test_save_gg.dgl')    "
   ]
  }
 ],
 "metadata": {
  "kernelspec": {
   "display_name": "torch",
   "language": "python",
   "name": "python3"
  },
  "language_info": {
   "codemirror_mode": {
    "name": "ipython",
    "version": 3
   },
   "file_extension": ".py",
   "mimetype": "text/x-python",
   "name": "python",
   "nbconvert_exporter": "python",
   "pygments_lexer": "ipython3",
   "version": "3.11.10"
  }
 },
 "nbformat": 4,
 "nbformat_minor": 2
}

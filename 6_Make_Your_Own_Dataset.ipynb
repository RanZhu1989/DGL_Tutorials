{
 "cells": [
  {
   "cell_type": "markdown",
   "metadata": {},
   "source": [
    "不管创建哪种数据集，都要继承`dgl.data.DGLDataset`类。并定义以下三种方法：\n",
    "- process: 创建静态数据部分，例如从数据源读取数据，创建图并为节点和边分配特征。\n",
    "- __getitem__: 对于单图直接返回图对象，对于多图，指定索引返回图对象。（一般有固定格式）\n",
    "- __len__: 返回数据集中图的数量。（一般有固定格式）"
   ]
  },
  {
   "cell_type": "markdown",
   "metadata": {},
   "source": [
    "## 1. 单图数据集"
   ]
  },
  {
   "cell_type": "code",
   "execution_count": 1,
   "metadata": {},
   "outputs": [],
   "source": [
    "import urllib.request\n",
    "\n",
    "import pandas as pd\n",
    "\n",
    "urllib.request.urlretrieve(\n",
    "    \"https://data.dgl.ai/tutorial/dataset/members.csv\", \"./data/members.csv\"\n",
    ")\n",
    "urllib.request.urlretrieve(\n",
    "    \"https://data.dgl.ai/tutorial/dataset/interactions.csv\",\n",
    "    \"./data/interactions.csv\",\n",
    ")\n",
    "\n",
    "members = pd.read_csv(\"./data/members.csv\")\n",
    "interactions = pd.read_csv(\"./data/interactions.csv\")"
   ]
  },
  {
   "cell_type": "code",
   "execution_count": 2,
   "metadata": {},
   "outputs": [
    {
     "name": "stdout",
     "output_type": "stream",
     "text": [
      "Club总共有2种\n"
     ]
    },
    {
     "data": {
      "text/plain": [
       "array([0, 0, 0, 0, 0, 0, 0, 0, 0, 1, 0, 0, 0, 0, 1, 1, 0, 0, 1, 0, 1, 0,\n",
       "       1, 1, 1, 1, 1, 1, 1, 1, 1, 1, 1, 1], dtype=int8)"
      ]
     },
     "execution_count": 2,
     "metadata": {},
     "output_type": "execute_result"
    }
   ],
   "source": [
    "'''\n",
    "在上面的数据中，id是唯一的，Club有3个\n",
    "'''\n",
    "\n",
    "print(\"Club总共有%d种\" %len(members['Club'].unique()))\n",
    "members['Club'].astype('category').cat.codes.to_numpy()"
   ]
  },
  {
   "cell_type": "code",
   "execution_count": 3,
   "metadata": {},
   "outputs": [
    {
     "name": "stderr",
     "output_type": "stream",
     "text": [
      "d:\\miniconda\\envs\\torch\\Lib\\site-packages\\tqdm\\auto.py:21: TqdmWarning: IProgress not found. Please update jupyter and ipywidgets. See https://ipywidgets.readthedocs.io/en/stable/user_install.html\n",
      "  from .autonotebook import tqdm as notebook_tqdm\n"
     ]
    }
   ],
   "source": [
    "import os\n",
    "\n",
    "os.environ[\"DGLBACKEND\"] = \"pytorch\"\n",
    "import dgl\n",
    "import torch\n",
    "from dgl.data import DGLDataset\n"
   ]
  },
  {
   "cell_type": "code",
   "execution_count": 4,
   "metadata": {},
   "outputs": [],
   "source": [
    "class TestClubDataset(DGLDataset):\n",
    "    def __init__(self):\n",
    "        super().__init__(name=\"test_club\")\n",
    "    \n",
    "    def process(self):\n",
    "        nodes_data = pd.read_csv(\"./data/members.csv\")\n",
    "        edges_data = pd.read_csv(\"./data/interactions.csv\")\n",
    "        node_features = torch.tensor(nodes_data[\"Age\"].to_numpy())\n",
    "        #NOTE: 将字符串用one-hot编码\n",
    "        node_labels = torch.tensor(nodes_data[\"Club\"].astype(\"category\").cat.codes.to_numpy())\n",
    "        edge_features = torch.tensor(edges_data[\"Weight\"].to_numpy())\n",
    "        edge_src = torch.tensor(edges_data[\"Src\"].to_numpy())\n",
    "        edge_dst = torch.tensor(edges_data[\"Dst\"].to_numpy())\n",
    "        \n",
    "        self.graph = dgl.graph((edge_src, edge_dst), num_nodes=nodes_data.shape[0])\n",
    "        self.graph.ndata['feat'] = node_features\n",
    "        self.graph.ndata['label'] = node_labels\n",
    "        self.graph.edata['weight'] = edge_features\n",
    "        \n",
    "        # If your dataset is a node classification dataset, you will need to assign\n",
    "        # masks indicating whether a node belongs to training, validation, and test set.\n",
    "        \n",
    "        '''\n",
    "        这里用简单的方式直接指定前60%的节点为训练集，20%的节点为验证集，20%的节点为测试集\n",
    "        '''\n",
    "        \n",
    "        n_nodes = nodes_data.shape[0]\n",
    "        n_train = int(n_nodes * 0.6)\n",
    "        n_val = int(n_nodes * 0.2)\n",
    "        train_mask = torch.zeros(n_nodes, dtype=torch.bool)\n",
    "        val_mask = torch.zeros(n_nodes, dtype=torch.bool)\n",
    "        test_mask = torch.zeros(n_nodes, dtype=torch.bool)\n",
    "        train_mask[:n_train] = True\n",
    "        val_mask[n_train : n_train + n_val] = True\n",
    "        test_mask[n_train + n_val :] = True\n",
    "        self.graph.ndata[\"train_mask\"] = train_mask\n",
    "        self.graph.ndata[\"val_mask\"] = val_mask\n",
    "        self.graph.ndata[\"test_mask\"] = test_mask\n",
    "\n",
    "    def __getitem__(self, i):\n",
    "        #NOTE: 只有1个图，所以直接返回即可,i都用不到\n",
    "        return self.graph\n",
    "\n",
    "    def __len__(self):\n",
    "        return 1\n",
    "    \n",
    "dataset = TestClubDataset()\n",
    "graph = dataset[0]\n",
    "\n"
   ]
  },
  {
   "cell_type": "code",
   "execution_count": 5,
   "metadata": {},
   "outputs": [
    {
     "name": "stdout",
     "output_type": "stream",
     "text": [
      "Graph(num_nodes=34, num_edges=156,\n",
      "      ndata_schemes={'feat': Scheme(shape=(), dtype=torch.int64), 'label': Scheme(shape=(), dtype=torch.int8), 'train_mask': Scheme(shape=(), dtype=torch.bool), 'val_mask': Scheme(shape=(), dtype=torch.bool), 'test_mask': Scheme(shape=(), dtype=torch.bool)}\n",
      "      edata_schemes={'weight': Scheme(shape=(), dtype=torch.float64)})\n",
      "{'feat': tensor([44, 37, 37, 40, 30, 32, 36, 47, 35, 37, 35, 46, 46, 48, 41, 49, 46, 38,\n",
      "        44, 41, 48, 34, 43, 41, 40, 34, 38, 42, 42, 44, 48, 41, 35, 46]), 'label': tensor([0, 0, 0, 0, 0, 0, 0, 0, 0, 1, 0, 0, 0, 0, 1, 1, 0, 0, 1, 0, 1, 0, 1, 1,\n",
      "        1, 1, 1, 1, 1, 1, 1, 1, 1, 1], dtype=torch.int8), 'train_mask': tensor([ True,  True,  True,  True,  True,  True,  True,  True,  True,  True,\n",
      "         True,  True,  True,  True,  True,  True,  True,  True,  True,  True,\n",
      "        False, False, False, False, False, False, False, False, False, False,\n",
      "        False, False, False, False]), 'val_mask': tensor([False, False, False, False, False, False, False, False, False, False,\n",
      "        False, False, False, False, False, False, False, False, False, False,\n",
      "         True,  True,  True,  True,  True,  True, False, False, False, False,\n",
      "        False, False, False, False]), 'test_mask': tensor([False, False, False, False, False, False, False, False, False, False,\n",
      "        False, False, False, False, False, False, False, False, False, False,\n",
      "        False, False, False, False, False, False,  True,  True,  True,  True,\n",
      "         True,  True,  True,  True])}\n"
     ]
    }
   ],
   "source": [
    "print(graph)\n",
    "print(graph.ndata)"
   ]
  },
  {
   "cell_type": "markdown",
   "metadata": {},
   "source": [
    "## 2. 多图数据集"
   ]
  },
  {
   "cell_type": "code",
   "execution_count": 6,
   "metadata": {},
   "outputs": [
    {
     "data": {
      "text/html": [
       "<div>\n",
       "<style scoped>\n",
       "    .dataframe tbody tr th:only-of-type {\n",
       "        vertical-align: middle;\n",
       "    }\n",
       "\n",
       "    .dataframe tbody tr th {\n",
       "        vertical-align: top;\n",
       "    }\n",
       "\n",
       "    .dataframe thead th {\n",
       "        text-align: right;\n",
       "    }\n",
       "</style>\n",
       "<table border=\"1\" class=\"dataframe\">\n",
       "  <thead>\n",
       "    <tr style=\"text-align: right;\">\n",
       "      <th></th>\n",
       "      <th>graph_id</th>\n",
       "      <th>label</th>\n",
       "      <th>num_nodes</th>\n",
       "    </tr>\n",
       "  </thead>\n",
       "  <tbody>\n",
       "    <tr>\n",
       "      <th>0</th>\n",
       "      <td>0</td>\n",
       "      <td>0</td>\n",
       "      <td>15</td>\n",
       "    </tr>\n",
       "    <tr>\n",
       "      <th>1</th>\n",
       "      <td>1</td>\n",
       "      <td>0</td>\n",
       "      <td>10</td>\n",
       "    </tr>\n",
       "    <tr>\n",
       "      <th>2</th>\n",
       "      <td>2</td>\n",
       "      <td>0</td>\n",
       "      <td>13</td>\n",
       "    </tr>\n",
       "    <tr>\n",
       "      <th>3</th>\n",
       "      <td>3</td>\n",
       "      <td>0</td>\n",
       "      <td>13</td>\n",
       "    </tr>\n",
       "    <tr>\n",
       "      <th>4</th>\n",
       "      <td>4</td>\n",
       "      <td>0</td>\n",
       "      <td>17</td>\n",
       "    </tr>\n",
       "  </tbody>\n",
       "</table>\n",
       "</div>"
      ],
      "text/plain": [
       "   graph_id  label  num_nodes\n",
       "0         0      0         15\n",
       "1         1      0         10\n",
       "2         2      0         13\n",
       "3         3      0         13\n",
       "4         4      0         17"
      ]
     },
     "execution_count": 6,
     "metadata": {},
     "output_type": "execute_result"
    }
   ],
   "source": [
    "'''\n",
    "从CSV文件创建多图数据集，以图分类为例。\n",
    "数据包含多个图本身以及对应的label。\n",
    "\n",
    "* 每个表多了一个graph_id列，用于标识图的ID\n",
    "\n",
    "'''\n",
    "\n",
    "urllib.request.urlretrieve(\n",
    "    \"https://data.dgl.ai/tutorial/dataset/graph_edges.csv\", \"./data/graph_edges.csv\"\n",
    ")\n",
    "urllib.request.urlretrieve(\n",
    "    \"https://data.dgl.ai/tutorial/dataset/graph_properties.csv\",\n",
    "    \"./data/graph_properties.csv\",\n",
    ")\n",
    "edges = pd.read_csv(\"./data/graph_edges.csv\")\n",
    "properties = pd.read_csv(\"./data/graph_properties.csv\")\n",
    "\n",
    "edges.head()\n",
    "\n",
    "properties.head()"
   ]
  },
  {
   "cell_type": "code",
   "execution_count": 7,
   "metadata": {},
   "outputs": [],
   "source": [
    "class SyntheticDataset(DGLDataset):\n",
    "    def __init__(self):\n",
    "        super().__init__(name=\"synthetic\")\n",
    "\n",
    "    def process(self):\n",
    "        edges = pd.read_csv(\"./data/graph_edges.csv\")\n",
    "        properties = pd.read_csv(\"./data/graph_properties.csv\")\n",
    "        self.graphs = []\n",
    "        self.labels = []\n",
    "\n",
    "        # Create a graph for each graph ID from the edges table.\n",
    "        # First process the properties table into two dictionaries with graph IDs as keys.\n",
    "        # The label and number of nodes are values.\n",
    "        label_dict = {}\n",
    "        num_nodes_dict = {}\n",
    "        for _, row in properties.iterrows():\n",
    "            label_dict[row[\"graph_id\"]] = row[\"label\"]\n",
    "            num_nodes_dict[row[\"graph_id\"]] = row[\"num_nodes\"]\n",
    "\n",
    "        # For the edges, first group the table by graph IDs.\n",
    "        # NOTE: pandas的groupby方法, 返回的是一个按图编号的GroupBy对象\n",
    "        edges_group = edges.groupby(\"graph_id\")\n",
    "\n",
    "        # For each graph ID...\n",
    "        for graph_id in edges_group.groups:\n",
    "            # Find the edges as well as the number of nodes and its label.\n",
    "            edges_of_id = edges_group.get_group(graph_id)\n",
    "            src = edges_of_id[\"src\"].to_numpy()\n",
    "            dst = edges_of_id[\"dst\"].to_numpy()\n",
    "            num_nodes = num_nodes_dict[graph_id]\n",
    "            label = label_dict[graph_id]\n",
    "\n",
    "            # Create a graph and add it to the list of graphs and labels.\n",
    "            g = dgl.graph((src, dst), num_nodes=num_nodes) # NOTE: 加num_nodes参数可以避免节点不连续以及存在鼓励节点的情况\n",
    "            #NOTE: 最关键的就是在list里追加图和标签\n",
    "            self.graphs.append(g)\n",
    "            self.labels.append(label)\n",
    "\n",
    "        # Convert the label list to tensor for saving.\n",
    "        self.labels = torch.LongTensor(self.labels)\n",
    "\n",
    "    def __getitem__(self, i):\n",
    "        return self.graphs[i], self.labels[i]\n",
    "\n",
    "    def __len__(self):\n",
    "        return len(self.graphs)\n",
    "\n",
    "\n"
   ]
  },
  {
   "cell_type": "code",
   "execution_count": 8,
   "metadata": {},
   "outputs": [
    {
     "name": "stdout",
     "output_type": "stream",
     "text": [
      "Graph(num_nodes=15, num_edges=45,\n",
      "      ndata_schemes={}\n",
      "      edata_schemes={}) tensor(0)\n"
     ]
    }
   ],
   "source": [
    "dataset = SyntheticDataset()\n",
    "graph, label = dataset[0]\n",
    "print(graph, label)"
   ]
  }
 ],
 "metadata": {
  "kernelspec": {
   "display_name": "torch",
   "language": "python",
   "name": "python3"
  },
  "language_info": {
   "codemirror_mode": {
    "name": "ipython",
    "version": 3
   },
   "file_extension": ".py",
   "mimetype": "text/x-python",
   "name": "python",
   "nbconvert_exporter": "python",
   "pygments_lexer": "ipython3",
   "version": "3.11.10"
  }
 },
 "nbformat": 4,
 "nbformat_minor": 2
}
